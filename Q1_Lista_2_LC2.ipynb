{
  "nbformat": 4,
  "nbformat_minor": 0,
  "metadata": {
    "colab": {
      "provenance": [],
      "authorship_tag": "ABX9TyNiVnyzv9XALKd5jzFFCAzW",
      "include_colab_link": true
    },
    "kernelspec": {
      "name": "python3",
      "display_name": "Python 3"
    },
    "language_info": {
      "name": "python"
    }
  },
  "cells": [
    {
      "cell_type": "markdown",
      "metadata": {
        "id": "view-in-github",
        "colab_type": "text"
      },
      "source": [
        "<a href=\"https://colab.research.google.com/github/valmyr/CIRCUITOSII/blob/main/Q1_Lista_2_LC2.ipynb\" target=\"_parent\"><img src=\"https://colab.research.google.com/assets/colab-badge.svg\" alt=\"Open In Colab\"/></a>"
      ]
    },
    {
      "cell_type": "code",
      "execution_count": 32,
      "metadata": {
        "id": "zZU6l_zDQkEx"
      },
      "outputs": [],
      "source": [
        "import sympy as sy\n",
        "import math as mt\n",
        "import numpy as np\n",
        "N1 = 2\n",
        "N2 = 1\n",
        "I1,I2,V1,V2 = sy.symbols(\"I1 I2 V1 V2\")\n",
        "VF =48"
      ]
    },
    {
      "cell_type": "code",
      "source": [
        "Eq1 = sy.Eq(-VF+8*I1+V1,0)\n",
        "Eq2 = sy.Eq(-V2+4*I2,0)\n",
        "Eq3 = sy.Eq(V1/V2,N1/N2)\n",
        "Eq4 = sy.Eq(I1/I2,N2/N1)\n",
        "\n",
        "Eq = [Eq1,Eq2,Eq3,Eq4]\n",
        "vEq =[I1,I2,V1,V2]"
      ],
      "metadata": {
        "id": "xo61ZGm4RCqd"
      },
      "execution_count": 33,
      "outputs": []
    },
    {
      "cell_type": "code",
      "source": [
        "s = sy.solve(Eq,vEq)\n",
        "s"
      ],
      "metadata": {
        "colab": {
          "base_uri": "https://localhost:8080/"
        },
        "id": "tfYOazPeSJ6L",
        "outputId": "687b3c18-183f-4cb6-a361-8d065e05c502"
      },
      "execution_count": 34,
      "outputs": [
        {
          "output_type": "execute_result",
          "data": {
            "text/plain": [
              "{I1: 2.00000000000000,\n",
              " I2: 4.00000000000000,\n",
              " V1: 32.0000000000000,\n",
              " V2: 16.0000000000000}"
            ]
          },
          "metadata": {},
          "execution_count": 34
        }
      ]
    },
    {
      "cell_type": "code",
      "source": [
        "I1_ = s[I1]\n",
        "I2_ = s[I2]\n",
        "V1_ = s[V1]\n",
        "V2_ = s[V2]"
      ],
      "metadata": {
        "id": "jyOB9m4sSSCg"
      },
      "execution_count": 35,
      "outputs": []
    },
    {
      "cell_type": "code",
      "source": [
        "Vth = V1_+2*I1_+I2_-V2_\n",
        "Vth"
      ],
      "metadata": {
        "colab": {
          "base_uri": "https://localhost:8080/",
          "height": 37
        },
        "id": "-knTTOa7Sg62",
        "outputId": "be1617bf-15f3-4fd9-f045-1f1590963245"
      },
      "execution_count": 36,
      "outputs": [
        {
          "output_type": "execute_result",
          "data": {
            "text/plain": [
              "24.0000000000000"
            ],
            "text/latex": "$\\displaystyle 24.0$"
          },
          "metadata": {},
          "execution_count": 36
        }
      ]
    },
    {
      "cell_type": "code",
      "source": [
        "Eq1 = sy.Eq(6*I1+2*(I1-1)+V1,0)\n",
        "Eq2 = sy.Eq(-V2+1*(I2-1)+3*I2,0)\n",
        "Eq3 = sy.Eq(V1/V2,N1/N2)\n",
        "Eq4 = sy.Eq((I1-1)/(I2-1),N2/N1)\n",
        "\n",
        "Eq = [Eq1,Eq2,Eq3,Eq4]\n",
        "vEq =[I1,I2,V1,V2]"
      ],
      "metadata": {
        "id": "o5ODgcFaTBVd"
      },
      "execution_count": 37,
      "outputs": []
    },
    {
      "cell_type": "code",
      "source": [
        "s = sy.solve(Eq,vEq)\n",
        "s"
      ],
      "metadata": {
        "colab": {
          "base_uri": "https://localhost:8080/"
        },
        "id": "h6CvOXy6UYjM",
        "outputId": "6aa07b68-0969-4800-a428-efb576e5ec73"
      },
      "execution_count": 38,
      "outputs": [
        {
          "output_type": "execute_result",
          "data": {
            "text/plain": [
              "{I1: 0.500000000000000, I2: 0.0, V1: -2.00000000000000, V2: -1.00000000000000}"
            ]
          },
          "metadata": {},
          "execution_count": 38
        }
      ]
    },
    {
      "cell_type": "code",
      "source": [
        "I1_ = s[I1]\n",
        "I2_ = s[I2]\n",
        "V1_ = s[V1]\n",
        "V2_ = s[V2]"
      ],
      "metadata": {
        "id": "fAJ27gTsUZQc"
      },
      "execution_count": 39,
      "outputs": []
    },
    {
      "cell_type": "code",
      "source": [
        "Vth = -(I2_-1)+V2_-V1_-2*(I1_-1)\n",
        "Vth"
      ],
      "metadata": {
        "colab": {
          "base_uri": "https://localhost:8080/",
          "height": 37
        },
        "id": "BkaGfN1yUvue",
        "outputId": "130914c7-300a-42a6-8c5c-6271783e1c96"
      },
      "execution_count": 40,
      "outputs": [
        {
          "output_type": "execute_result",
          "data": {
            "text/plain": [
              "3.00000000000000"
            ],
            "text/latex": "$\\displaystyle 3.0$"
          },
          "metadata": {},
          "execution_count": 40
        }
      ]
    },
    {
      "cell_type": "code",
      "source": [
        "P = (12**2)/3\n",
        "P"
      ],
      "metadata": {
        "colab": {
          "base_uri": "https://localhost:8080/"
        },
        "id": "HrkJlX5JVvCr",
        "outputId": "71a20506-a62f-495a-f1fc-d8388c222ed2"
      },
      "execution_count": 41,
      "outputs": [
        {
          "output_type": "execute_result",
          "data": {
            "text/plain": [
              "48.0"
            ]
          },
          "metadata": {},
          "execution_count": 41
        }
      ]
    }
  ]
}