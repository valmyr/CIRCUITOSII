{
  "nbformat": 4,
  "nbformat_minor": 0,
  "metadata": {
    "colab": {
      "provenance": [],
      "authorship_tag": "ABX9TyNGfJ74EfCCxI6v2056KRKl",
      "include_colab_link": true
    },
    "kernelspec": {
      "name": "python3",
      "display_name": "Python 3"
    },
    "language_info": {
      "name": "python"
    }
  },
  "cells": [
    {
      "cell_type": "markdown",
      "metadata": {
        "id": "view-in-github",
        "colab_type": "text"
      },
      "source": [
        "<a href=\"https://colab.research.google.com/github/valmyr/CIRCUITOSII/blob/main/Sadiku_13_22.ipynb\" target=\"_parent\"><img src=\"https://colab.research.google.com/assets/colab-badge.svg\" alt=\"Open In Colab\"/></a>"
      ]
    },
    {
      "cell_type": "code",
      "execution_count": 82,
      "metadata": {
        "id": "S_d4iK9BUOho"
      },
      "outputs": [],
      "source": [
        "from numpy import arctan2\n",
        "import sympy as sy\n",
        "from math import *\n",
        "I0,I1,I2 = sy.symbols(\"I0 I1 I2\")\n",
        "j = complex(0,1)\n",
        "j\n",
        "ret2fas = lambda z:[abs(z),degrees(arctan2(z.imag,z.real))]\n"
      ]
    },
    {
      "cell_type": "code",
      "source": [
        "degrees(pi)"
      ],
      "metadata": {
        "colab": {
          "base_uri": "https://localhost:8080/"
        },
        "id": "8TLNYVa3WMyg",
        "outputId": "68ee3edb-572d-4483-ac3c-fb47d5af4671"
      },
      "execution_count": 83,
      "outputs": [
        {
          "output_type": "execute_result",
          "data": {
            "text/plain": [
              "180.0"
            ]
          },
          "metadata": {},
          "execution_count": 83
        }
      ]
    },
    {
      "cell_type": "code",
      "source": [
        "j*50*(I1-I2)"
      ],
      "metadata": {
        "colab": {
          "base_uri": "https://localhost:8080/",
          "height": 38
        },
        "id": "mvkaYcYDWM2f",
        "outputId": "d9cb54b7-8224-4d1b-a38b-dc46da046f64"
      },
      "execution_count": 84,
      "outputs": [
        {
          "output_type": "execute_result",
          "data": {
            "text/plain": [
              "50.0*I*(I1 - I2)"
            ],
            "text/latex": "$\\displaystyle 50.0 i \\left(I_{1} - I_{2}\\right)$"
          },
          "metadata": {},
          "execution_count": 84
        }
      ]
    },
    {
      "cell_type": "code",
      "source": [
        "Eq1 =sy.simplify(-50+j*40*(I1-I0)-j*10*(I1-I2)-j*20*(I2-I0)+j*80*(I1-I2)-j*10*(I1-I0)+j*30*(I2-I0))\n",
        "Eq1"
      ],
      "metadata": {
        "colab": {
          "base_uri": "https://localhost:8080/",
          "height": 38
        },
        "id": "AmzTI75TU3P4",
        "outputId": "b5c3047a-40aa-45fa-b03d-dafc0bb83958"
      },
      "execution_count": 85,
      "outputs": [
        {
          "output_type": "execute_result",
          "data": {
            "text/plain": [
              "-40.0*I*I0 + 100.0*I*I1 - 60.0*I*I2 - 50"
            ],
            "text/latex": "$\\displaystyle - 40.0 i I_{0} + 100.0 i I_{1} - 60.0 i I_{2} - 50$"
          },
          "metadata": {},
          "execution_count": 85
        }
      ]
    },
    {
      "cell_type": "code",
      "source": [
        "Eq2 = sy.simplify(-j*30*(I2-I0)+j*10*(I1-I0)-j*80*(I1-I2)+j*60*(I2-I0)-j*20*(I1-I0)+j*30*(I1-I2)+100*I2)\n",
        "Eq2"
      ],
      "metadata": {
        "colab": {
          "base_uri": "https://localhost:8080/",
          "height": 38
        },
        "id": "tHjUzx_zWtu9",
        "outputId": "49bdc0b7-cff1-498b-90f7-9c60abe821af"
      },
      "execution_count": 86,
      "outputs": [
        {
          "output_type": "execute_result",
          "data": {
            "text/plain": [
              "-20.0*I*I0 - 60.0*I*I1 + I2*(100 + 80.0*I)"
            ],
            "text/latex": "$\\displaystyle - 20.0 i I_{0} - 60.0 i I_{1} + I_{2} \\left(100 + 80.0 i\\right)$"
          },
          "metadata": {},
          "execution_count": 86
        }
      ]
    },
    {
      "cell_type": "code",
      "source": [
        "Eq3 = sy.simplify(-j*50*I0-j*30*(I1-I2)+j*20*(I1-I0)-j*60*(I2-I0)+j*20*(I2-I0)+j*10*(I1-I2)-j*40*(I1-I0))\n",
        "Eq3"
      ],
      "metadata": {
        "colab": {
          "base_uri": "https://localhost:8080/",
          "height": 38
        },
        "id": "nJF4d-gHWtyG",
        "outputId": "33558004-b485-4862-ec07-d81284e014bd"
      },
      "execution_count": 87,
      "outputs": [
        {
          "output_type": "execute_result",
          "data": {
            "text/plain": [
              "I*(10.0*I0 - 40.0*I1 - 20.0*I2)"
            ],
            "text/latex": "$\\displaystyle i \\left(10.0 I_{0} - 40.0 I_{1} - 20.0 I_{2}\\right)$"
          },
          "metadata": {},
          "execution_count": 87
        }
      ]
    },
    {
      "cell_type": "code",
      "source": [
        "r = sy.solve([Eq1,Eq2,Eq3],[I0,I1,I2])\n",
        "I0_ = complex(r[I0])\n",
        "I1_ = complex(r[I1])\n",
        "I2_ = complex(r[I2])\n"
      ],
      "metadata": {
        "id": "DAw5Bz1jZ0Bg"
      },
      "execution_count": 88,
      "outputs": []
    },
    {
      "cell_type": "code",
      "source": [
        "I0_"
      ],
      "metadata": {
        "colab": {
          "base_uri": "https://localhost:8080/"
        },
        "id": "fGg4eo2BbrPE",
        "outputId": "885de413-0686-4333-d297-8b00f80975eb"
      },
      "execution_count": 89,
      "outputs": [
        {
          "output_type": "execute_result",
          "data": {
            "text/plain": [
              "(0.5923076923076923+1.1615384615384616j)"
            ]
          },
          "metadata": {},
          "execution_count": 89
        }
      ]
    },
    {
      "cell_type": "code",
      "source": [
        "ret2fas(I0_)"
      ],
      "metadata": {
        "colab": {
          "base_uri": "https://localhost:8080/"
        },
        "id": "bJl-wvF5aUcl",
        "outputId": "7f6f125a-a5f5-4269-8a4d-17e272a6c592"
      },
      "execution_count": 90,
      "outputs": [
        {
          "output_type": "execute_result",
          "data": {
            "text/plain": [
              "[1.3038404810405297, 62.98142969696405]"
            ]
          },
          "metadata": {},
          "execution_count": 90
        }
      ]
    }
  ]
}